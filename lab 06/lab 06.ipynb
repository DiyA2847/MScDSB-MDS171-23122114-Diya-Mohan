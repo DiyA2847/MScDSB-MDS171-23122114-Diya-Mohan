{
 "cells": [
  {
   "cell_type": "code",
   "execution_count": 9,
   "metadata": {},
   "outputs": [
    {
     "ename": "TypeError",
     "evalue": "can only concatenate str (not \"int\") to str",
     "output_type": "error",
     "traceback": [
      "\u001b[1;31m---------------------------------------------------------------------------\u001b[0m",
      "\u001b[1;31mTypeError\u001b[0m                                 Traceback (most recent call last)",
      "\u001b[1;32mf:\\python codes\\MScDSB-MDS171-23122114-Diya-Mohan\\lab 06\\lab 06.ipynb Cell 1\u001b[0m line \u001b[0;36m1\n\u001b[0;32m     <a href='vscode-notebook-cell:/f%3A/python%20codes/MScDSB-MDS171-23122114-Diya-Mohan/lab%2006/lab%2006.ipynb#W1sZmlsZQ%3D%3D?line=13'>14</a>\u001b[0m     intprc\u001b[39m=\u001b[39m\u001b[39mint\u001b[39m(price[r3])\n\u001b[0;32m     <a href='vscode-notebook-cell:/f%3A/python%20codes/MScDSB-MDS171-23122114-Diya-Mohan/lab%2006/lab%2006.ipynb#W1sZmlsZQ%3D%3D?line=14'>15</a>\u001b[0m     total\u001b[39m=\u001b[39mintqty\u001b[39m*\u001b[39mintprc\n\u001b[1;32m---> <a href='vscode-notebook-cell:/f%3A/python%20codes/MScDSB-MDS171-23122114-Diya-Mohan/lab%2006/lab%2006.ipynb#W1sZmlsZQ%3D%3D?line=15'>16</a>\u001b[0m     file\u001b[39m.\u001b[39mwrite(itemlist[r1]\u001b[39m+\u001b[39;49m\u001b[39m\"\u001b[39;49m\u001b[39m,\u001b[39;49m\u001b[39m\"\u001b[39;49m\u001b[39m+\u001b[39;49mquantity[r2]\u001b[39m+\u001b[39;49m\u001b[39m\"\u001b[39;49m\u001b[39m,\u001b[39;49m\u001b[39m\"\u001b[39;49m\u001b[39m+\u001b[39;49mprice[r3]\u001b[39m+\u001b[39m\u001b[39m\"\u001b[39m\u001b[39m\\t\u001b[39;00m\u001b[39m Total = \u001b[39m\u001b[39m\"\u001b[39m\u001b[39m+\u001b[39m\u001b[39mstr\u001b[39m(total)\u001b[39m+\u001b[39m\u001b[39m\"\u001b[39m\u001b[39m\\n\u001b[39;00m\u001b[39m\"\u001b[39m)\n\u001b[0;32m     <a href='vscode-notebook-cell:/f%3A/python%20codes/MScDSB-MDS171-23122114-Diya-Mohan/lab%2006/lab%2006.ipynb#W1sZmlsZQ%3D%3D?line=16'>17</a>\u001b[0m file\u001b[39m.\u001b[39mclose()\n",
      "\u001b[1;31mTypeError\u001b[0m: can only concatenate str (not \"int\") to str"
     ]
    }
   ],
   "source": [
    "#list\n",
    "import random\n",
    "\n",
    "itemlist = [\"BURGER\",\"FRIEDRICE\",\"BIRIYANI\",\"CHAPATHI\",\"POROTTA\",\"SANDWICH\",\"PUFFS\",\"NOODLES\",\"ROTTI\",\"CHICKENCURRY\"]\n",
    "quantity = [\"2\",\"4\",\"5\",\"10\",\"8\",\"6\",\"3\",\"1\",\"12\",\"9\"]\n",
    "price = [240,600,750,100,160,360,150,80,130,900]\n",
    "\n",
    "file = open(\"23122114.csv\",\"w+\")\n",
    "for i in range(100):\n",
    "    r1=random.randint(0,9)\n",
    "    r2=random.randint(0,9)\n",
    "    r3=random.randint(0,9)\n",
    "    intqty=int(quantity[r2])\n",
    "    intprc=int(price[r3])\n",
    "    total=intqty*intprc\n",
    "    file.write(itemlist[r1]+\",\"+quantity[r2]+\",\"+price[r3]+\"\\t Total = \"+str(total)+\"\\n\")\n",
    "file.close()\n",
    "\n",
    "\n",
    "\n",
    "\n",
    "\n"
   ]
  },
  {
   "cell_type": "code",
   "execution_count": null,
   "metadata": {},
   "outputs": [],
   "source": []
  }
 ],
 "metadata": {
  "kernelspec": {
   "display_name": "Python 3",
   "language": "python",
   "name": "python3"
  },
  "language_info": {
   "codemirror_mode": {
    "name": "ipython",
    "version": 3
   },
   "file_extension": ".py",
   "mimetype": "text/x-python",
   "name": "python",
   "nbconvert_exporter": "python",
   "pygments_lexer": "ipython3",
   "version": "3.11.4"
  },
  "orig_nbformat": 4
 },
 "nbformat": 4,
 "nbformat_minor": 2
}
