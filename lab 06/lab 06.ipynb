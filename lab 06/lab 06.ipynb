{
 "cells": [
  {
   "cell_type": "code",
   "execution_count": null,
   "metadata": {},
   "outputs": [],
   "source": [
    "#list\n",
    "import random()\n",
    "\n",
    "itemlist = [\"BURGER\",\"FRIEDRICE\",\"BIRIYANI\",\"CHAPATHI\",\"POROTTA\",\"SANDWICH\",\"PUFFS\",\"NOODLES\",\"ROTTI\",\"CHICKENCURRY\"]\n",
    "quantity = [\"2\",\"4\",\"5\",\"10\",\"8\",\"6\",\"3\",\"1\",\"12\",\"9\"]\n",
    "price = [240,600,750,100,160,360,150,80,130,900]\n",
    "\n",
    "file = open(\"23122114.csv\",\"w+\")\n",
    "for i in range(100):\n",
    "    r1=random.randint(0,9)\n",
    "    r2=random.randint(0,9)\n",
    "    r3=random.randint(0,9)\n",
    "    intqty=int(quantity[r2])\n",
    "    intprc=int(price[r3])\n",
    "    total=intqty*intprc\n",
    "    file.write(itemlist[r1]+\",\"+quantity[r2]+\",\"+price[r3]+\"\\t Total = \"+str(total)+\"\\n\")\n",
    "file.close()\n",
    "\n",
    "\n",
    "\n",
    "\n",
    "\n"
   ]
  },
  {
   "cell_type": "code",
   "execution_count": null,
   "metadata": {},
   "outputs": [],
   "source": []
  }
 ],
 "metadata": {
  "language_info": {
   "name": "python"
  },
  "orig_nbformat": 4
 },
 "nbformat": 4,
 "nbformat_minor": 2
}
