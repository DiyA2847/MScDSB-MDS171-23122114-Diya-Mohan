{
 "cells": [
  {
   "cell_type": "code",
   "execution_count": 10,
   "metadata": {},
   "outputs": [],
   "source": [
    "#list\n",
    "import random\n",
    "\n",
    "itemlist = [\"BURGER\",\"FRIEDRICE\",\"BIRIYANI\",\"CHAPATHI\",\"POROTTA\",\"SANDWICH\",\"PUFFS\",\"NOODLES\",\"ROTTI\",\"CHICKENCURRY\"]\n",
    "quantity = [\"2\",\"4\",\"5\",\"10\",\"8\",\"6\",\"3\",\"1\",\"12\",\"9\"]\n",
    "price = [\"240\",\"600\",\"750\",'100',\"160\",\"360\",\"150\",\"80\",\"130\",\"900\"]\n",
    "\n",
    "file = open(\"23122114.csv\",\"w+\")\n",
    "for i in range(100):\n",
    "    r1=random.randint(0,9)\n",
    "    r2=random.randint(0,9)\n",
    "    r3=random.randint(0,9)\n",
    "    intqty=int(quantity[r2])\n",
    "    intprc=int(price[r3])\n",
    "    total=intqty*intprc\n",
    "    file.write(itemlist[r1]+\",\"+quantity[r2]+\",\"+price[r3]+\"\\t Total = \"+str(total)+\"\\n\")\n",
    "file.close()\n",
    "\n",
    "\n",
    "\n",
    "\n",
    "\n"
   ]
  },
  {
   "cell_type": "code",
   "execution_count": null,
   "metadata": {},
   "outputs": [],
   "source": []
  }
 ],
 "metadata": {
  "kernelspec": {
   "display_name": "Python 3",
   "language": "python",
   "name": "python3"
  },
  "language_info": {
   "codemirror_mode": {
    "name": "ipython",
    "version": 3
   },
   "file_extension": ".py",
   "mimetype": "text/x-python",
   "name": "python",
   "nbconvert_exporter": "python",
   "pygments_lexer": "ipython3",
   "version": "3.11.4"
  },
  "orig_nbformat": 4
 },
 "nbformat": 4,
 "nbformat_minor": 2
}
