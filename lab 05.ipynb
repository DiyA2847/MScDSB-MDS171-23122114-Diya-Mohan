{
 "cells": [
  {
   "cell_type": "code",
   "execution_count": 1,
   "metadata": {},
   "outputs": [
    {
     "name": "stdout",
     "output_type": "stream",
     "text": [
      "Your enterd string is :  how are you\n",
      "Number of Vowels in the string are :  5\n",
      "a 1\n",
      "o 2\n",
      "e 1\n",
      "u 1\n",
      "Number of Vowels in the string :  5\n",
      "Total length of the string :  11\n",
      "The Percentage of the Number of Vowels enterd :  45.45454545454545\n"
     ]
    }
   ],
   "source": [
    "string = str(input(\"Enter any words : \"))\n",
    "string = string.lower()\n",
    "vcount = 0\n",
    "vowels = []\n",
    "for i in string:\n",
    "    if i == 'a':\n",
    "        vcount = vcount + 1\n",
    "        vowels.append(i)\n",
    "    elif i == 'e':\n",
    "        vcount = vcount + 1\n",
    "        vowels.append(i)\n",
    "    elif i == 'o':\n",
    "        vcount = vcount + 1\n",
    "        vowels.append(i)\n",
    "    elif i == 'u':\n",
    "        vcount = vcount + 1\n",
    "        vowels.append(i)\n",
    "    elif i == 'i':\n",
    "        vcount = vcount + 1\n",
    "        vowels.append(i)\n",
    "print(\"Your enterd string is : \",(string))\n",
    "print(\"Number of Vowels in the string are : \",(vcount))\n",
    "\n",
    "nov = set(vowels)\n",
    "for i in nov:\n",
    "    vcount = 0\n",
    "    for item in string:\n",
    "        if i == item:\n",
    "            vcount = vcount+1\n",
    "    print(i,vcount)\n",
    "\n",
    "print(\"Number of Vowels in the string : \",len(vowels))\n",
    "print(\"Total length of the string : \",len(string))\n",
    "perc = len(vowels)/len(string)*100\n",
    "print(\"The Percentage of the Number of Vowels enterd : \",(perc))"
   ]
  }
 ],
 "metadata": {
  "kernelspec": {
   "display_name": "Python 3",
   "language": "python",
   "name": "python3"
  },
  "language_info": {
   "codemirror_mode": {
    "name": "ipython",
    "version": 3
   },
   "file_extension": ".py",
   "mimetype": "text/x-python",
   "name": "python",
   "nbconvert_exporter": "python",
   "pygments_lexer": "ipython3",
   "version": "3.11.4"
  },
  "orig_nbformat": 4
 },
 "nbformat": 4,
 "nbformat_minor": 2
}
